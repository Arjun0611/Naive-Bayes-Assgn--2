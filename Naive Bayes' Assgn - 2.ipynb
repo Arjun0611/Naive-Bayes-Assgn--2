{
 "cells": [
  {
   "cell_type": "code",
   "execution_count": 1,
   "id": "7df3ad64-0353-4c32-843d-53a76f1e4f89",
   "metadata": {},
   "outputs": [],
   "source": [
    "#Q1."
   ]
  },
  {
   "cell_type": "code",
   "execution_count": 2,
   "id": "ba5a717b-3ecc-4826-9c4c-90907654495e",
   "metadata": {},
   "outputs": [],
   "source": [
    "# Let's consider\n",
    "# A - the event that an employee uses the health insurance plan.\n",
    "# B - the event that an employee is a smoker."
   ]
  },
  {
   "cell_type": "code",
   "execution_count": 3,
   "id": "4b4f5e3f-b5d9-4e03-8b0f-2a851ece1a8b",
   "metadata": {},
   "outputs": [],
   "source": [
    "# The problem asks for the probability that an employee is a smoker given that they use the health insurance plan, which is denoted as  P(B∣A), the conditional probability of  B given A."
   ]
  },
  {
   "cell_type": "code",
   "execution_count": 4,
   "id": "750b046c-5fb1-4166-a7d3-9aec36cc68c2",
   "metadata": {},
   "outputs": [],
   "source": [
    "# P(A) = 0.7\n",
    "# P(B|A) = 0.4\n",
    "# P(A intersection B), the probability of both using the health insurance plan and being a smoker = 0.7 * 0.4 = 0.28"
   ]
  },
  {
   "cell_type": "code",
   "execution_count": 5,
   "id": "f44710d4-d6cd-48a5-98c7-d9fb88bd5333",
   "metadata": {},
   "outputs": [],
   "source": [
    "# Q2."
   ]
  },
  {
   "cell_type": "code",
   "execution_count": 6,
   "id": "1272472e-287d-48c9-bc04-ceb1a5eb8351",
   "metadata": {},
   "outputs": [],
   "source": [
    "# Bernoulli Naive Bayes:\n",
    "\n",
    "# Assumes binary data (0 or 1).\n",
    "# Suitable for features that represent presence or absence.\n",
    "# Commonly used in text classification where the presence or absence of words matters.\n",
    "\n",
    "# Multinomial Naive Bayes:\n",
    "\n",
    "# Handles discrete data with multiple categories.\n",
    "# Suitable for features representing counts or frequencies.\n",
    "# Often used in text classification with word frequency features."
   ]
  },
  {
   "cell_type": "code",
   "execution_count": 7,
   "id": "63e52248-7b76-4e85-a62f-cb52815beb90",
   "metadata": {},
   "outputs": [],
   "source": [
    "# Q3.\n",
    "\n",
    "# Typically, Bernoulli Naive Bayes assumes a binary feature model (presence or absence).\n",
    "# Missing values can be treated as the absence of the feature.\n",
    "# The algorithm implicitly handles missing values by considering the presence or absence of each feature independently for classification.\n",
    "# In practice, it doesn't explicitly deal with missing values, and imputation strategies may be applied before applying the algorithm."
   ]
  },
  {
   "cell_type": "code",
   "execution_count": 8,
   "id": "6fc37a80-90f8-41c6-b467-9182e8148cb8",
   "metadata": {},
   "outputs": [],
   "source": [
    "# Q4.\n",
    "\n",
    "# Yes, Gaussian Naive Bayes can be used for multi-class classification.\n",
    "# It extends naturally to multiple classes.\n",
    "# It models each class as a Gaussian distribution.\n",
    "# Calculates likelihood based on the probability density function for continuous features.\n",
    "# Commonly used when features are assumed to follow a Gaussian distribution."
   ]
  },
  {
   "cell_type": "code",
   "execution_count": 9,
   "id": "a4b4ba9d-bb32-42d8-afa4-0f34fa682051",
   "metadata": {},
   "outputs": [],
   "source": [
    "#Q5."
   ]
  },
  {
   "cell_type": "code",
   "execution_count": 10,
   "id": "5dc31f2d-3bcb-4176-83ed-e214f7166fdc",
   "metadata": {},
   "outputs": [],
   "source": [
    "from sklearn.naive_bayes import BernoulliNB, MultinomialNB, GaussianNB\n",
    "from sklearn.metrics import accuracy_score, precision_score, recall_score, f1_score\n",
    "from sklearn.datasets import fetch_openml\n",
    "from sklearn.model_selection import train_test_split\n",
    "import pandas as pd\n",
    "from sklearn.model_selection import GridSearchCV"
   ]
  },
  {
   "cell_type": "code",
   "execution_count": 11,
   "id": "0dd6699c-984c-40b8-a353-2288af0acc80",
   "metadata": {},
   "outputs": [
    {
     "name": "stderr",
     "output_type": "stream",
     "text": [
      "/opt/conda/lib/python3.10/site-packages/sklearn/datasets/_openml.py:932: FutureWarning: The default value of `parser` will change from `'liac-arff'` to `'auto'` in 1.4. You can set `parser='auto'` to silence this warning. Therefore, an `ImportError` will be raised from 1.4 if the dataset is dense and pandas is not installed. Note that the pandas parser may return different data types. See the Notes Section in fetch_openml's API doc for details.\n",
      "  warn(\n"
     ]
    }
   ],
   "source": [
    "spambase = fetch_openml(name = 'spambase')"
   ]
  },
  {
   "cell_type": "code",
   "execution_count": 25,
   "id": "ceda656f-6212-4e70-adb3-afb201507e0b",
   "metadata": {},
   "outputs": [
    {
     "data": {
      "text/plain": [
       "{'data':       word_freq_make  word_freq_address  word_freq_all  word_freq_3d  \\\n",
       " 0               0.00               0.64           0.64           0.0   \n",
       " 1               0.21               0.28           0.50           0.0   \n",
       " 2               0.06               0.00           0.71           0.0   \n",
       " 3               0.00               0.00           0.00           0.0   \n",
       " 4               0.00               0.00           0.00           0.0   \n",
       " ...              ...                ...            ...           ...   \n",
       " 4596            0.31               0.00           0.62           0.0   \n",
       " 4597            0.00               0.00           0.00           0.0   \n",
       " 4598            0.30               0.00           0.30           0.0   \n",
       " 4599            0.96               0.00           0.00           0.0   \n",
       " 4600            0.00               0.00           0.65           0.0   \n",
       " \n",
       "       word_freq_our  word_freq_over  word_freq_remove  word_freq_internet  \\\n",
       " 0              0.32            0.00              0.00                0.00   \n",
       " 1              0.14            0.28              0.21                0.07   \n",
       " 2              1.23            0.19              0.19                0.12   \n",
       " 3              0.63            0.00              0.31                0.63   \n",
       " 4              0.63            0.00              0.31                0.63   \n",
       " ...             ...             ...               ...                 ...   \n",
       " 4596           0.00            0.31              0.00                0.00   \n",
       " 4597           0.00            0.00              0.00                0.00   \n",
       " 4598           0.00            0.00              0.00                0.00   \n",
       " 4599           0.32            0.00              0.00                0.00   \n",
       " 4600           0.00            0.00              0.00                0.00   \n",
       " \n",
       "       word_freq_order  word_freq_mail  ...  word_freq_conference  \\\n",
       " 0                0.00            0.00  ...                   0.0   \n",
       " 1                0.00            0.94  ...                   0.0   \n",
       " 2                0.64            0.25  ...                   0.0   \n",
       " 3                0.31            0.63  ...                   0.0   \n",
       " 4                0.31            0.63  ...                   0.0   \n",
       " ...               ...             ...  ...                   ...   \n",
       " 4596             0.00            0.00  ...                   0.0   \n",
       " 4597             0.00            0.00  ...                   0.0   \n",
       " 4598             0.00            0.00  ...                   0.0   \n",
       " 4599             0.00            0.00  ...                   0.0   \n",
       " 4600             0.00            0.00  ...                   0.0   \n",
       " \n",
       "       char_freq_%3B  char_freq_%28  char_freq_%5B  char_freq_%21  \\\n",
       " 0             0.000          0.000            0.0          0.778   \n",
       " 1             0.000          0.132            0.0          0.372   \n",
       " 2             0.010          0.143            0.0          0.276   \n",
       " 3             0.000          0.137            0.0          0.137   \n",
       " 4             0.000          0.135            0.0          0.135   \n",
       " ...             ...            ...            ...            ...   \n",
       " 4596          0.000          0.232            0.0          0.000   \n",
       " 4597          0.000          0.000            0.0          0.353   \n",
       " 4598          0.102          0.718            0.0          0.000   \n",
       " 4599          0.000          0.057            0.0          0.000   \n",
       " 4600          0.000          0.000            0.0          0.125   \n",
       " \n",
       "       char_freq_%24  char_freq_%23  capital_run_length_average  \\\n",
       " 0             0.000          0.000                       3.756   \n",
       " 1             0.180          0.048                       5.114   \n",
       " 2             0.184          0.010                       9.821   \n",
       " 3             0.000          0.000                       3.537   \n",
       " 4             0.000          0.000                       3.537   \n",
       " ...             ...            ...                         ...   \n",
       " 4596          0.000          0.000                       1.142   \n",
       " 4597          0.000          0.000                       1.555   \n",
       " 4598          0.000          0.000                       1.404   \n",
       " 4599          0.000          0.000                       1.147   \n",
       " 4600          0.000          0.000                       1.250   \n",
       " \n",
       "       capital_run_length_longest  capital_run_length_total  \n",
       " 0                             61                       278  \n",
       " 1                            101                      1028  \n",
       " 2                            485                      2259  \n",
       " 3                             40                       191  \n",
       " 4                             40                       191  \n",
       " ...                          ...                       ...  \n",
       " 4596                           3                        88  \n",
       " 4597                           4                        14  \n",
       " 4598                           6                       118  \n",
       " 4599                           5                        78  \n",
       " 4600                           5                        40  \n",
       " \n",
       " [4601 rows x 57 columns],\n",
       " 'target': 0       1\n",
       " 1       1\n",
       " 2       1\n",
       " 3       1\n",
       " 4       1\n",
       "        ..\n",
       " 4596    0\n",
       " 4597    0\n",
       " 4598    0\n",
       " 4599    0\n",
       " 4600    0\n",
       " Name: class, Length: 4601, dtype: category\n",
       " Categories (2, object): ['0', '1'],\n",
       " 'frame':       word_freq_make  word_freq_address  word_freq_all  word_freq_3d  \\\n",
       " 0               0.00               0.64           0.64           0.0   \n",
       " 1               0.21               0.28           0.50           0.0   \n",
       " 2               0.06               0.00           0.71           0.0   \n",
       " 3               0.00               0.00           0.00           0.0   \n",
       " 4               0.00               0.00           0.00           0.0   \n",
       " ...              ...                ...            ...           ...   \n",
       " 4596            0.31               0.00           0.62           0.0   \n",
       " 4597            0.00               0.00           0.00           0.0   \n",
       " 4598            0.30               0.00           0.30           0.0   \n",
       " 4599            0.96               0.00           0.00           0.0   \n",
       " 4600            0.00               0.00           0.65           0.0   \n",
       " \n",
       "       word_freq_our  word_freq_over  word_freq_remove  word_freq_internet  \\\n",
       " 0              0.32            0.00              0.00                0.00   \n",
       " 1              0.14            0.28              0.21                0.07   \n",
       " 2              1.23            0.19              0.19                0.12   \n",
       " 3              0.63            0.00              0.31                0.63   \n",
       " 4              0.63            0.00              0.31                0.63   \n",
       " ...             ...             ...               ...                 ...   \n",
       " 4596           0.00            0.31              0.00                0.00   \n",
       " 4597           0.00            0.00              0.00                0.00   \n",
       " 4598           0.00            0.00              0.00                0.00   \n",
       " 4599           0.32            0.00              0.00                0.00   \n",
       " 4600           0.00            0.00              0.00                0.00   \n",
       " \n",
       "       word_freq_order  word_freq_mail  ...  char_freq_%3B  char_freq_%28  \\\n",
       " 0                0.00            0.00  ...          0.000          0.000   \n",
       " 1                0.00            0.94  ...          0.000          0.132   \n",
       " 2                0.64            0.25  ...          0.010          0.143   \n",
       " 3                0.31            0.63  ...          0.000          0.137   \n",
       " 4                0.31            0.63  ...          0.000          0.135   \n",
       " ...               ...             ...  ...            ...            ...   \n",
       " 4596             0.00            0.00  ...          0.000          0.232   \n",
       " 4597             0.00            0.00  ...          0.000          0.000   \n",
       " 4598             0.00            0.00  ...          0.102          0.718   \n",
       " 4599             0.00            0.00  ...          0.000          0.057   \n",
       " 4600             0.00            0.00  ...          0.000          0.000   \n",
       " \n",
       "       char_freq_%5B  char_freq_%21  char_freq_%24  char_freq_%23  \\\n",
       " 0               0.0          0.778          0.000          0.000   \n",
       " 1               0.0          0.372          0.180          0.048   \n",
       " 2               0.0          0.276          0.184          0.010   \n",
       " 3               0.0          0.137          0.000          0.000   \n",
       " 4               0.0          0.135          0.000          0.000   \n",
       " ...             ...            ...            ...            ...   \n",
       " 4596            0.0          0.000          0.000          0.000   \n",
       " 4597            0.0          0.353          0.000          0.000   \n",
       " 4598            0.0          0.000          0.000          0.000   \n",
       " 4599            0.0          0.000          0.000          0.000   \n",
       " 4600            0.0          0.125          0.000          0.000   \n",
       " \n",
       "       capital_run_length_average  capital_run_length_longest  \\\n",
       " 0                          3.756                          61   \n",
       " 1                          5.114                         101   \n",
       " 2                          9.821                         485   \n",
       " 3                          3.537                          40   \n",
       " 4                          3.537                          40   \n",
       " ...                          ...                         ...   \n",
       " 4596                       1.142                           3   \n",
       " 4597                       1.555                           4   \n",
       " 4598                       1.404                           6   \n",
       " 4599                       1.147                           5   \n",
       " 4600                       1.250                           5   \n",
       " \n",
       "       capital_run_length_total  class  \n",
       " 0                          278      1  \n",
       " 1                         1028      1  \n",
       " 2                         2259      1  \n",
       " 3                          191      1  \n",
       " 4                          191      1  \n",
       " ...                        ...    ...  \n",
       " 4596                        88      0  \n",
       " 4597                        14      0  \n",
       " 4598                       118      0  \n",
       " 4599                        78      0  \n",
       " 4600                        40      0  \n",
       " \n",
       " [4601 rows x 58 columns],\n",
       " 'categories': None,\n",
       " 'feature_names': ['word_freq_make',\n",
       "  'word_freq_address',\n",
       "  'word_freq_all',\n",
       "  'word_freq_3d',\n",
       "  'word_freq_our',\n",
       "  'word_freq_over',\n",
       "  'word_freq_remove',\n",
       "  'word_freq_internet',\n",
       "  'word_freq_order',\n",
       "  'word_freq_mail',\n",
       "  'word_freq_receive',\n",
       "  'word_freq_will',\n",
       "  'word_freq_people',\n",
       "  'word_freq_report',\n",
       "  'word_freq_addresses',\n",
       "  'word_freq_free',\n",
       "  'word_freq_business',\n",
       "  'word_freq_email',\n",
       "  'word_freq_you',\n",
       "  'word_freq_credit',\n",
       "  'word_freq_your',\n",
       "  'word_freq_font',\n",
       "  'word_freq_000',\n",
       "  'word_freq_money',\n",
       "  'word_freq_hp',\n",
       "  'word_freq_hpl',\n",
       "  'word_freq_george',\n",
       "  'word_freq_650',\n",
       "  'word_freq_lab',\n",
       "  'word_freq_labs',\n",
       "  'word_freq_telnet',\n",
       "  'word_freq_857',\n",
       "  'word_freq_data',\n",
       "  'word_freq_415',\n",
       "  'word_freq_85',\n",
       "  'word_freq_technology',\n",
       "  'word_freq_1999',\n",
       "  'word_freq_parts',\n",
       "  'word_freq_pm',\n",
       "  'word_freq_direct',\n",
       "  'word_freq_cs',\n",
       "  'word_freq_meeting',\n",
       "  'word_freq_original',\n",
       "  'word_freq_project',\n",
       "  'word_freq_re',\n",
       "  'word_freq_edu',\n",
       "  'word_freq_table',\n",
       "  'word_freq_conference',\n",
       "  'char_freq_%3B',\n",
       "  'char_freq_%28',\n",
       "  'char_freq_%5B',\n",
       "  'char_freq_%21',\n",
       "  'char_freq_%24',\n",
       "  'char_freq_%23',\n",
       "  'capital_run_length_average',\n",
       "  'capital_run_length_longest',\n",
       "  'capital_run_length_total'],\n",
       " 'target_names': ['class'],\n",
       " 'DESCR': '**Author**: Mark Hopkins, Erik Reeber, George Forman, Jaap Suermondt    \\n**Source**: [UCI](https://archive.ics.uci.edu/ml/datasets/spambase)   \\n**Please cite**: [UCI](https://archive.ics.uci.edu/ml/citation_policy.html)\\n\\nSPAM E-mail Database  \\nThe \"spam\" concept is diverse: advertisements for products/websites, make money fast schemes, chain letters, pornography... Our collection of spam e-mails came from our postmaster and individuals who had filed spam.  Our collection of non-spam e-mails came from filed work and personal e-mails, and hence the word \\'george\\' and the area code \\'650\\' are indicators of non-spam.  These are useful when constructing a personalized spam filter.  One would either have to blind such non-spam indicators or get a very wide collection of non-spam to generate a general purpose spam filter.\\n \\nFor background on spam:  \\nCranor, Lorrie F., LaMacchia, Brian A.  Spam! Communications of the ACM, 41(8):74-83, 1998.  \\n\\n### Attribute Information:  \\nThe last column denotes whether the e-mail was considered spam (1) or not (0), i.e. unsolicited commercial e-mail. Most of the attributes indicate whether a particular word or character was frequently occurring in the e-mail. The run-length attributes (55-57) measure the length of sequences of consecutive capital letters.  \\n\\nFor the statistical measures of each attribute, see the end of this file. Here are the definitions of the attributes:  \\n\\n48 continuous real [0,100] attributes of type  \\nword_freq_WORD = percentage of words in the e-mail that match WORD,  i.e. 100 * (number of times the WORD appears in the e-mail) / total number of words in e-mail.  A \"word\" in this case is any string of alphanumeric characters bounded by non-alphanumeric characters or end-of-string.\\n \\n6 continuous real [0,100] attributes of type char_freq_CHAR = percentage of characters in the e-mail that match CHAR, i.e. 100 * (number of CHAR occurences) / total characters in e-mail\\n \\n1 continuous real [1,...] attribute of type capital_run_length_average\\n = average length of uninterrupted sequences of capital letters\\n \\n1 continuous integer [1,...] attribute of type capital_run_length_longest\\n = length of longest uninterrupted sequence of capital letters\\n \\n1 continuous integer [1,...] attribute of type capital_run_length_total\\n = sum of length of uninterrupted sequences of capital letters\\n = total number of capital letters in the e-mail\\n \\n1 nominal {0,1} class attribute of type spam\\n = denotes whether the e-mail was considered spam (1) or not (0), \\n i.e. unsolicited commercial e-mail.\\n\\nDownloaded from openml.org.',\n",
       " 'details': {'id': '44',\n",
       "  'name': 'spambase',\n",
       "  'version': '1',\n",
       "  'description_version': '3',\n",
       "  'format': 'ARFF',\n",
       "  'creator': ['Mark Hopkins',\n",
       "   'Erik Reeber',\n",
       "   'George Forman',\n",
       "   'Jaap Suermondt',\n",
       "   'Hewlett-Packard Labs'],\n",
       "  'collection_date': '1999-07-01',\n",
       "  'upload_date': '2014-04-06T23:22:41',\n",
       "  'language': 'English',\n",
       "  'licence': 'Public',\n",
       "  'url': 'https://api.openml.org/data/v1/download/44/spambase.arff',\n",
       "  'parquet_url': 'http://openml1.win.tue.nl/dataset44/dataset_44.pq',\n",
       "  'file_id': '44',\n",
       "  'default_target_attribute': 'class',\n",
       "  'version_label': '1',\n",
       "  'citation': 'https://archive.ics.uci.edu/ml/citation_policy.html',\n",
       "  'tag': ['Machine Learning',\n",
       "   'mythbusting_1',\n",
       "   'OpenML-CC18',\n",
       "   'OpenML100',\n",
       "   'study_1',\n",
       "   'study_123',\n",
       "   'study_14',\n",
       "   'study_15',\n",
       "   'study_20',\n",
       "   'study_34',\n",
       "   'study_37',\n",
       "   'study_41',\n",
       "   'study_52',\n",
       "   'study_7',\n",
       "   'study_70',\n",
       "   'study_98',\n",
       "   'study_99',\n",
       "   'Text & Literature',\n",
       "   'uci'],\n",
       "  'visibility': 'public',\n",
       "  'original_data_url': 'https://archive.ics.uci.edu/ml/datasets/spambase',\n",
       "  'minio_url': 'http://openml1.win.tue.nl/dataset44/dataset_44.pq',\n",
       "  'status': 'active',\n",
       "  'processing_date': '2020-11-20 19:28:05',\n",
       "  'md5_checksum': 'd9ace01aeac3461e326a8e1b2d53fd84'},\n",
       " 'url': 'https://www.openml.org/d/44'}"
      ]
     },
     "execution_count": 25,
     "metadata": {},
     "output_type": "execute_result"
    }
   ],
   "source": [
    "spambase"
   ]
  },
  {
   "cell_type": "code",
   "execution_count": 12,
   "id": "f0789ce8-c002-4fe8-b5a4-45a030ea080a",
   "metadata": {},
   "outputs": [],
   "source": [
    "X = spambase.data"
   ]
  },
  {
   "cell_type": "code",
   "execution_count": 13,
   "id": "d4e6668c-cbf4-455c-9d1b-68f29554669c",
   "metadata": {},
   "outputs": [],
   "source": [
    "y = spambase.target.astype('int')"
   ]
  },
  {
   "cell_type": "code",
   "execution_count": 14,
   "id": "38d6035b-55b2-47f2-9eb3-2e2845122bbd",
   "metadata": {},
   "outputs": [],
   "source": [
    "X_train, X_test, y_train, y_test = train_test_split(X,y,test_size=0.2, random_state=0)"
   ]
  },
  {
   "cell_type": "code",
   "execution_count": 15,
   "id": "e14c6ba7-2608-414b-bfb8-b97ba977b706",
   "metadata": {},
   "outputs": [],
   "source": [
    "param_grid_bernoulli = {}\n",
    "grid_bernoulli = GridSearchCV(BernoulliNB(), cv=10,param_grid=param_grid_bernoulli)"
   ]
  },
  {
   "cell_type": "code",
   "execution_count": 16,
   "id": "38715763-375c-4096-ac93-d52ed59bb916",
   "metadata": {},
   "outputs": [],
   "source": [
    "param_grid_gaussian = {}\n",
    "grid_gaussian = GridSearchCV(GaussianNB(), cv=10, param_grid=param_grid_gaussian)"
   ]
  },
  {
   "cell_type": "code",
   "execution_count": 17,
   "id": "5846f4a0-ee34-4a55-a75f-dc13c2a872b1",
   "metadata": {},
   "outputs": [],
   "source": [
    "param_grid_multinomial = {}\n",
    "grid_multinomial = GridSearchCV(MultinomialNB(), cv=10, param_grid=param_grid_multinomial)"
   ]
  },
  {
   "cell_type": "code",
   "execution_count": 18,
   "id": "458c52cd-c870-4e45-a396-29e60df03dbb",
   "metadata": {},
   "outputs": [
    {
     "data": {
      "text/html": [
       "<style>#sk-container-id-1 {color: black;background-color: white;}#sk-container-id-1 pre{padding: 0;}#sk-container-id-1 div.sk-toggleable {background-color: white;}#sk-container-id-1 label.sk-toggleable__label {cursor: pointer;display: block;width: 100%;margin-bottom: 0;padding: 0.3em;box-sizing: border-box;text-align: center;}#sk-container-id-1 label.sk-toggleable__label-arrow:before {content: \"▸\";float: left;margin-right: 0.25em;color: #696969;}#sk-container-id-1 label.sk-toggleable__label-arrow:hover:before {color: black;}#sk-container-id-1 div.sk-estimator:hover label.sk-toggleable__label-arrow:before {color: black;}#sk-container-id-1 div.sk-toggleable__content {max-height: 0;max-width: 0;overflow: hidden;text-align: left;background-color: #f0f8ff;}#sk-container-id-1 div.sk-toggleable__content pre {margin: 0.2em;color: black;border-radius: 0.25em;background-color: #f0f8ff;}#sk-container-id-1 input.sk-toggleable__control:checked~div.sk-toggleable__content {max-height: 200px;max-width: 100%;overflow: auto;}#sk-container-id-1 input.sk-toggleable__control:checked~label.sk-toggleable__label-arrow:before {content: \"▾\";}#sk-container-id-1 div.sk-estimator input.sk-toggleable__control:checked~label.sk-toggleable__label {background-color: #d4ebff;}#sk-container-id-1 div.sk-label input.sk-toggleable__control:checked~label.sk-toggleable__label {background-color: #d4ebff;}#sk-container-id-1 input.sk-hidden--visually {border: 0;clip: rect(1px 1px 1px 1px);clip: rect(1px, 1px, 1px, 1px);height: 1px;margin: -1px;overflow: hidden;padding: 0;position: absolute;width: 1px;}#sk-container-id-1 div.sk-estimator {font-family: monospace;background-color: #f0f8ff;border: 1px dotted black;border-radius: 0.25em;box-sizing: border-box;margin-bottom: 0.5em;}#sk-container-id-1 div.sk-estimator:hover {background-color: #d4ebff;}#sk-container-id-1 div.sk-parallel-item::after {content: \"\";width: 100%;border-bottom: 1px solid gray;flex-grow: 1;}#sk-container-id-1 div.sk-label:hover label.sk-toggleable__label {background-color: #d4ebff;}#sk-container-id-1 div.sk-serial::before {content: \"\";position: absolute;border-left: 1px solid gray;box-sizing: border-box;top: 0;bottom: 0;left: 50%;z-index: 0;}#sk-container-id-1 div.sk-serial {display: flex;flex-direction: column;align-items: center;background-color: white;padding-right: 0.2em;padding-left: 0.2em;position: relative;}#sk-container-id-1 div.sk-item {position: relative;z-index: 1;}#sk-container-id-1 div.sk-parallel {display: flex;align-items: stretch;justify-content: center;background-color: white;position: relative;}#sk-container-id-1 div.sk-item::before, #sk-container-id-1 div.sk-parallel-item::before {content: \"\";position: absolute;border-left: 1px solid gray;box-sizing: border-box;top: 0;bottom: 0;left: 50%;z-index: -1;}#sk-container-id-1 div.sk-parallel-item {display: flex;flex-direction: column;z-index: 1;position: relative;background-color: white;}#sk-container-id-1 div.sk-parallel-item:first-child::after {align-self: flex-end;width: 50%;}#sk-container-id-1 div.sk-parallel-item:last-child::after {align-self: flex-start;width: 50%;}#sk-container-id-1 div.sk-parallel-item:only-child::after {width: 0;}#sk-container-id-1 div.sk-dashed-wrapped {border: 1px dashed gray;margin: 0 0.4em 0.5em 0.4em;box-sizing: border-box;padding-bottom: 0.4em;background-color: white;}#sk-container-id-1 div.sk-label label {font-family: monospace;font-weight: bold;display: inline-block;line-height: 1.2em;}#sk-container-id-1 div.sk-label-container {text-align: center;}#sk-container-id-1 div.sk-container {/* jupyter's `normalize.less` sets `[hidden] { display: none; }` but bootstrap.min.css set `[hidden] { display: none !important; }` so we also need the `!important` here to be able to override the default hidden behavior on the sphinx rendered scikit-learn.org. See: https://github.com/scikit-learn/scikit-learn/issues/21755 */display: inline-block !important;position: relative;}#sk-container-id-1 div.sk-text-repr-fallback {display: none;}</style><div id=\"sk-container-id-1\" class=\"sk-top-container\"><div class=\"sk-text-repr-fallback\"><pre>GridSearchCV(cv=10, estimator=BernoulliNB(), param_grid={})</pre><b>In a Jupyter environment, please rerun this cell to show the HTML representation or trust the notebook. <br />On GitHub, the HTML representation is unable to render, please try loading this page with nbviewer.org.</b></div><div class=\"sk-container\" hidden><div class=\"sk-item sk-dashed-wrapped\"><div class=\"sk-label-container\"><div class=\"sk-label sk-toggleable\"><input class=\"sk-toggleable__control sk-hidden--visually\" id=\"sk-estimator-id-1\" type=\"checkbox\" ><label for=\"sk-estimator-id-1\" class=\"sk-toggleable__label sk-toggleable__label-arrow\">GridSearchCV</label><div class=\"sk-toggleable__content\"><pre>GridSearchCV(cv=10, estimator=BernoulliNB(), param_grid={})</pre></div></div></div><div class=\"sk-parallel\"><div class=\"sk-parallel-item\"><div class=\"sk-item\"><div class=\"sk-label-container\"><div class=\"sk-label sk-toggleable\"><input class=\"sk-toggleable__control sk-hidden--visually\" id=\"sk-estimator-id-2\" type=\"checkbox\" ><label for=\"sk-estimator-id-2\" class=\"sk-toggleable__label sk-toggleable__label-arrow\">estimator: BernoulliNB</label><div class=\"sk-toggleable__content\"><pre>BernoulliNB()</pre></div></div></div><div class=\"sk-serial\"><div class=\"sk-item\"><div class=\"sk-estimator sk-toggleable\"><input class=\"sk-toggleable__control sk-hidden--visually\" id=\"sk-estimator-id-3\" type=\"checkbox\" ><label for=\"sk-estimator-id-3\" class=\"sk-toggleable__label sk-toggleable__label-arrow\">BernoulliNB</label><div class=\"sk-toggleable__content\"><pre>BernoulliNB()</pre></div></div></div></div></div></div></div></div></div></div>"
      ],
      "text/plain": [
       "GridSearchCV(cv=10, estimator=BernoulliNB(), param_grid={})"
      ]
     },
     "execution_count": 18,
     "metadata": {},
     "output_type": "execute_result"
    }
   ],
   "source": [
    "grid_bernoulli.fit(X_train, y_train)"
   ]
  },
  {
   "cell_type": "code",
   "execution_count": 19,
   "id": "bdd879ed-e402-4215-8dcc-90f06326b832",
   "metadata": {},
   "outputs": [
    {
     "data": {
      "text/html": [
       "<style>#sk-container-id-2 {color: black;background-color: white;}#sk-container-id-2 pre{padding: 0;}#sk-container-id-2 div.sk-toggleable {background-color: white;}#sk-container-id-2 label.sk-toggleable__label {cursor: pointer;display: block;width: 100%;margin-bottom: 0;padding: 0.3em;box-sizing: border-box;text-align: center;}#sk-container-id-2 label.sk-toggleable__label-arrow:before {content: \"▸\";float: left;margin-right: 0.25em;color: #696969;}#sk-container-id-2 label.sk-toggleable__label-arrow:hover:before {color: black;}#sk-container-id-2 div.sk-estimator:hover label.sk-toggleable__label-arrow:before {color: black;}#sk-container-id-2 div.sk-toggleable__content {max-height: 0;max-width: 0;overflow: hidden;text-align: left;background-color: #f0f8ff;}#sk-container-id-2 div.sk-toggleable__content pre {margin: 0.2em;color: black;border-radius: 0.25em;background-color: #f0f8ff;}#sk-container-id-2 input.sk-toggleable__control:checked~div.sk-toggleable__content {max-height: 200px;max-width: 100%;overflow: auto;}#sk-container-id-2 input.sk-toggleable__control:checked~label.sk-toggleable__label-arrow:before {content: \"▾\";}#sk-container-id-2 div.sk-estimator input.sk-toggleable__control:checked~label.sk-toggleable__label {background-color: #d4ebff;}#sk-container-id-2 div.sk-label input.sk-toggleable__control:checked~label.sk-toggleable__label {background-color: #d4ebff;}#sk-container-id-2 input.sk-hidden--visually {border: 0;clip: rect(1px 1px 1px 1px);clip: rect(1px, 1px, 1px, 1px);height: 1px;margin: -1px;overflow: hidden;padding: 0;position: absolute;width: 1px;}#sk-container-id-2 div.sk-estimator {font-family: monospace;background-color: #f0f8ff;border: 1px dotted black;border-radius: 0.25em;box-sizing: border-box;margin-bottom: 0.5em;}#sk-container-id-2 div.sk-estimator:hover {background-color: #d4ebff;}#sk-container-id-2 div.sk-parallel-item::after {content: \"\";width: 100%;border-bottom: 1px solid gray;flex-grow: 1;}#sk-container-id-2 div.sk-label:hover label.sk-toggleable__label {background-color: #d4ebff;}#sk-container-id-2 div.sk-serial::before {content: \"\";position: absolute;border-left: 1px solid gray;box-sizing: border-box;top: 0;bottom: 0;left: 50%;z-index: 0;}#sk-container-id-2 div.sk-serial {display: flex;flex-direction: column;align-items: center;background-color: white;padding-right: 0.2em;padding-left: 0.2em;position: relative;}#sk-container-id-2 div.sk-item {position: relative;z-index: 1;}#sk-container-id-2 div.sk-parallel {display: flex;align-items: stretch;justify-content: center;background-color: white;position: relative;}#sk-container-id-2 div.sk-item::before, #sk-container-id-2 div.sk-parallel-item::before {content: \"\";position: absolute;border-left: 1px solid gray;box-sizing: border-box;top: 0;bottom: 0;left: 50%;z-index: -1;}#sk-container-id-2 div.sk-parallel-item {display: flex;flex-direction: column;z-index: 1;position: relative;background-color: white;}#sk-container-id-2 div.sk-parallel-item:first-child::after {align-self: flex-end;width: 50%;}#sk-container-id-2 div.sk-parallel-item:last-child::after {align-self: flex-start;width: 50%;}#sk-container-id-2 div.sk-parallel-item:only-child::after {width: 0;}#sk-container-id-2 div.sk-dashed-wrapped {border: 1px dashed gray;margin: 0 0.4em 0.5em 0.4em;box-sizing: border-box;padding-bottom: 0.4em;background-color: white;}#sk-container-id-2 div.sk-label label {font-family: monospace;font-weight: bold;display: inline-block;line-height: 1.2em;}#sk-container-id-2 div.sk-label-container {text-align: center;}#sk-container-id-2 div.sk-container {/* jupyter's `normalize.less` sets `[hidden] { display: none; }` but bootstrap.min.css set `[hidden] { display: none !important; }` so we also need the `!important` here to be able to override the default hidden behavior on the sphinx rendered scikit-learn.org. See: https://github.com/scikit-learn/scikit-learn/issues/21755 */display: inline-block !important;position: relative;}#sk-container-id-2 div.sk-text-repr-fallback {display: none;}</style><div id=\"sk-container-id-2\" class=\"sk-top-container\"><div class=\"sk-text-repr-fallback\"><pre>GridSearchCV(cv=10, estimator=GaussianNB(), param_grid={})</pre><b>In a Jupyter environment, please rerun this cell to show the HTML representation or trust the notebook. <br />On GitHub, the HTML representation is unable to render, please try loading this page with nbviewer.org.</b></div><div class=\"sk-container\" hidden><div class=\"sk-item sk-dashed-wrapped\"><div class=\"sk-label-container\"><div class=\"sk-label sk-toggleable\"><input class=\"sk-toggleable__control sk-hidden--visually\" id=\"sk-estimator-id-4\" type=\"checkbox\" ><label for=\"sk-estimator-id-4\" class=\"sk-toggleable__label sk-toggleable__label-arrow\">GridSearchCV</label><div class=\"sk-toggleable__content\"><pre>GridSearchCV(cv=10, estimator=GaussianNB(), param_grid={})</pre></div></div></div><div class=\"sk-parallel\"><div class=\"sk-parallel-item\"><div class=\"sk-item\"><div class=\"sk-label-container\"><div class=\"sk-label sk-toggleable\"><input class=\"sk-toggleable__control sk-hidden--visually\" id=\"sk-estimator-id-5\" type=\"checkbox\" ><label for=\"sk-estimator-id-5\" class=\"sk-toggleable__label sk-toggleable__label-arrow\">estimator: GaussianNB</label><div class=\"sk-toggleable__content\"><pre>GaussianNB()</pre></div></div></div><div class=\"sk-serial\"><div class=\"sk-item\"><div class=\"sk-estimator sk-toggleable\"><input class=\"sk-toggleable__control sk-hidden--visually\" id=\"sk-estimator-id-6\" type=\"checkbox\" ><label for=\"sk-estimator-id-6\" class=\"sk-toggleable__label sk-toggleable__label-arrow\">GaussianNB</label><div class=\"sk-toggleable__content\"><pre>GaussianNB()</pre></div></div></div></div></div></div></div></div></div></div>"
      ],
      "text/plain": [
       "GridSearchCV(cv=10, estimator=GaussianNB(), param_grid={})"
      ]
     },
     "execution_count": 19,
     "metadata": {},
     "output_type": "execute_result"
    }
   ],
   "source": [
    "grid_gaussian.fit(X_train, y_train)"
   ]
  },
  {
   "cell_type": "code",
   "execution_count": 20,
   "id": "d93f8461-ac74-49c1-a7c2-1475668afc41",
   "metadata": {},
   "outputs": [
    {
     "data": {
      "text/html": [
       "<style>#sk-container-id-3 {color: black;background-color: white;}#sk-container-id-3 pre{padding: 0;}#sk-container-id-3 div.sk-toggleable {background-color: white;}#sk-container-id-3 label.sk-toggleable__label {cursor: pointer;display: block;width: 100%;margin-bottom: 0;padding: 0.3em;box-sizing: border-box;text-align: center;}#sk-container-id-3 label.sk-toggleable__label-arrow:before {content: \"▸\";float: left;margin-right: 0.25em;color: #696969;}#sk-container-id-3 label.sk-toggleable__label-arrow:hover:before {color: black;}#sk-container-id-3 div.sk-estimator:hover label.sk-toggleable__label-arrow:before {color: black;}#sk-container-id-3 div.sk-toggleable__content {max-height: 0;max-width: 0;overflow: hidden;text-align: left;background-color: #f0f8ff;}#sk-container-id-3 div.sk-toggleable__content pre {margin: 0.2em;color: black;border-radius: 0.25em;background-color: #f0f8ff;}#sk-container-id-3 input.sk-toggleable__control:checked~div.sk-toggleable__content {max-height: 200px;max-width: 100%;overflow: auto;}#sk-container-id-3 input.sk-toggleable__control:checked~label.sk-toggleable__label-arrow:before {content: \"▾\";}#sk-container-id-3 div.sk-estimator input.sk-toggleable__control:checked~label.sk-toggleable__label {background-color: #d4ebff;}#sk-container-id-3 div.sk-label input.sk-toggleable__control:checked~label.sk-toggleable__label {background-color: #d4ebff;}#sk-container-id-3 input.sk-hidden--visually {border: 0;clip: rect(1px 1px 1px 1px);clip: rect(1px, 1px, 1px, 1px);height: 1px;margin: -1px;overflow: hidden;padding: 0;position: absolute;width: 1px;}#sk-container-id-3 div.sk-estimator {font-family: monospace;background-color: #f0f8ff;border: 1px dotted black;border-radius: 0.25em;box-sizing: border-box;margin-bottom: 0.5em;}#sk-container-id-3 div.sk-estimator:hover {background-color: #d4ebff;}#sk-container-id-3 div.sk-parallel-item::after {content: \"\";width: 100%;border-bottom: 1px solid gray;flex-grow: 1;}#sk-container-id-3 div.sk-label:hover label.sk-toggleable__label {background-color: #d4ebff;}#sk-container-id-3 div.sk-serial::before {content: \"\";position: absolute;border-left: 1px solid gray;box-sizing: border-box;top: 0;bottom: 0;left: 50%;z-index: 0;}#sk-container-id-3 div.sk-serial {display: flex;flex-direction: column;align-items: center;background-color: white;padding-right: 0.2em;padding-left: 0.2em;position: relative;}#sk-container-id-3 div.sk-item {position: relative;z-index: 1;}#sk-container-id-3 div.sk-parallel {display: flex;align-items: stretch;justify-content: center;background-color: white;position: relative;}#sk-container-id-3 div.sk-item::before, #sk-container-id-3 div.sk-parallel-item::before {content: \"\";position: absolute;border-left: 1px solid gray;box-sizing: border-box;top: 0;bottom: 0;left: 50%;z-index: -1;}#sk-container-id-3 div.sk-parallel-item {display: flex;flex-direction: column;z-index: 1;position: relative;background-color: white;}#sk-container-id-3 div.sk-parallel-item:first-child::after {align-self: flex-end;width: 50%;}#sk-container-id-3 div.sk-parallel-item:last-child::after {align-self: flex-start;width: 50%;}#sk-container-id-3 div.sk-parallel-item:only-child::after {width: 0;}#sk-container-id-3 div.sk-dashed-wrapped {border: 1px dashed gray;margin: 0 0.4em 0.5em 0.4em;box-sizing: border-box;padding-bottom: 0.4em;background-color: white;}#sk-container-id-3 div.sk-label label {font-family: monospace;font-weight: bold;display: inline-block;line-height: 1.2em;}#sk-container-id-3 div.sk-label-container {text-align: center;}#sk-container-id-3 div.sk-container {/* jupyter's `normalize.less` sets `[hidden] { display: none; }` but bootstrap.min.css set `[hidden] { display: none !important; }` so we also need the `!important` here to be able to override the default hidden behavior on the sphinx rendered scikit-learn.org. See: https://github.com/scikit-learn/scikit-learn/issues/21755 */display: inline-block !important;position: relative;}#sk-container-id-3 div.sk-text-repr-fallback {display: none;}</style><div id=\"sk-container-id-3\" class=\"sk-top-container\"><div class=\"sk-text-repr-fallback\"><pre>GridSearchCV(cv=10, estimator=MultinomialNB(), param_grid={})</pre><b>In a Jupyter environment, please rerun this cell to show the HTML representation or trust the notebook. <br />On GitHub, the HTML representation is unable to render, please try loading this page with nbviewer.org.</b></div><div class=\"sk-container\" hidden><div class=\"sk-item sk-dashed-wrapped\"><div class=\"sk-label-container\"><div class=\"sk-label sk-toggleable\"><input class=\"sk-toggleable__control sk-hidden--visually\" id=\"sk-estimator-id-7\" type=\"checkbox\" ><label for=\"sk-estimator-id-7\" class=\"sk-toggleable__label sk-toggleable__label-arrow\">GridSearchCV</label><div class=\"sk-toggleable__content\"><pre>GridSearchCV(cv=10, estimator=MultinomialNB(), param_grid={})</pre></div></div></div><div class=\"sk-parallel\"><div class=\"sk-parallel-item\"><div class=\"sk-item\"><div class=\"sk-label-container\"><div class=\"sk-label sk-toggleable\"><input class=\"sk-toggleable__control sk-hidden--visually\" id=\"sk-estimator-id-8\" type=\"checkbox\" ><label for=\"sk-estimator-id-8\" class=\"sk-toggleable__label sk-toggleable__label-arrow\">estimator: MultinomialNB</label><div class=\"sk-toggleable__content\"><pre>MultinomialNB()</pre></div></div></div><div class=\"sk-serial\"><div class=\"sk-item\"><div class=\"sk-estimator sk-toggleable\"><input class=\"sk-toggleable__control sk-hidden--visually\" id=\"sk-estimator-id-9\" type=\"checkbox\" ><label for=\"sk-estimator-id-9\" class=\"sk-toggleable__label sk-toggleable__label-arrow\">MultinomialNB</label><div class=\"sk-toggleable__content\"><pre>MultinomialNB()</pre></div></div></div></div></div></div></div></div></div></div>"
      ],
      "text/plain": [
       "GridSearchCV(cv=10, estimator=MultinomialNB(), param_grid={})"
      ]
     },
     "execution_count": 20,
     "metadata": {},
     "output_type": "execute_result"
    }
   ],
   "source": [
    "grid_multinomial.fit(X_train, y_train)"
   ]
  },
  {
   "cell_type": "code",
   "execution_count": 21,
   "id": "884aa54f-c04e-472d-b063-336744e49dfc",
   "metadata": {},
   "outputs": [],
   "source": [
    "y_pred_bernoulli = grid_bernoulli.predict(X_test)\n",
    "y_pred_gaussian = grid_gaussian.predict(X_test)\n",
    "y_pred_multinomial = grid_multinomial.predict(X_test)"
   ]
  },
  {
   "cell_type": "code",
   "execution_count": 22,
   "id": "d451106f-552b-4564-90ff-c472cca02c4a",
   "metadata": {},
   "outputs": [
    {
     "name": "stdout",
     "output_type": "stream",
     "text": [
      "Bernoulli Performance:\n",
      "Accuracy: 0.88\n",
      "Precision: 0.88\n",
      "Recall: 0.82\n",
      "F1_Score: 0.85\n"
     ]
    }
   ],
   "source": [
    "print(f\"Bernoulli Performance:\")\n",
    "accuracy_bernoulli = accuracy_score(y_test, y_pred_bernoulli)\n",
    "precision_bernoulli = precision_score(y_test, y_pred_bernoulli)\n",
    "recall_bernoulli = recall_score(y_test, y_pred_bernoulli)\n",
    "f1_score_bernoulli = f1_score(y_test, y_pred_bernoulli)\n",
    "print(\"Accuracy: {:.2f}\".format(accuracy_bernoulli))\n",
    "print(\"Precision: {:.2f}\".format(precision_bernoulli))\n",
    "print(\"Recall: {:.2f}\".format(recall_bernoulli))\n",
    "print(\"F1_Score: {:.2f}\".format(f1_score_bernoulli))"
   ]
  },
  {
   "cell_type": "code",
   "execution_count": 23,
   "id": "1f42594d-8c9d-4e54-8e77-f766165606a8",
   "metadata": {},
   "outputs": [
    {
     "name": "stdout",
     "output_type": "stream",
     "text": [
      "Gaussian Performance:\n",
      "Accuracy: 0.81\n",
      "Precision: 0.70\n",
      "Recall: 0.93\n",
      "F1_Score: 0.80\n"
     ]
    }
   ],
   "source": [
    "print(f\"Gaussian Performance:\")\n",
    "accuracy_gaussian = accuracy_score(y_test, y_pred_gaussian)\n",
    "precision_gaussian = precision_score(y_test, y_pred_gaussian)\n",
    "recall_gaussian = recall_score(y_test, y_pred_gaussian)\n",
    "f1_score_gaussian = f1_score(y_test, y_pred_gaussian)\n",
    "print(\"Accuracy: {:.2f}\".format(accuracy_gaussian))\n",
    "print(\"Precision: {:.2f}\".format(precision_gaussian))\n",
    "print(\"Recall: {:.2f}\".format(recall_gaussian))\n",
    "print(\"F1_Score: {:.2f}\".format(f1_score_gaussian))"
   ]
  },
  {
   "cell_type": "code",
   "execution_count": 24,
   "id": "657bc784-0e44-4b46-a296-8b73fe1e1123",
   "metadata": {},
   "outputs": [
    {
     "name": "stdout",
     "output_type": "stream",
     "text": [
      "Multinomial Performance:\n",
      "Accuracy: 0.81\n",
      "Precision: 0.78\n",
      "Recall: 0.77\n",
      "F1_Score: 0.77\n"
     ]
    }
   ],
   "source": [
    "print(f\"Multinomial Performance:\")\n",
    "accuracy_multinomial = accuracy_score(y_test, y_pred_multinomial)\n",
    "precision_multinomial = precision_score(y_test, y_pred_multinomial)\n",
    "recall_multinomial = recall_score(y_test, y_pred_multinomial)\n",
    "f1_score_multinomial = f1_score(y_test, y_pred_multinomial)\n",
    "print(\"Accuracy: {:.2f}\".format(accuracy_multinomial))\n",
    "print(\"Precision: {:.2f}\".format(precision_multinomial))\n",
    "print(\"Recall: {:.2f}\".format(recall_multinomial))\n",
    "print(\"F1_Score: {:.2f}\".format(f1_score_multinomial))"
   ]
  },
  {
   "cell_type": "code",
   "execution_count": 26,
   "id": "1125d5c5-462a-4c12-8757-9ad78a3c241e",
   "metadata": {},
   "outputs": [],
   "source": [
    "# Best performing variant is Bernoulli's performance. Reasons for better performance could be it's strength in well-matching features representing word occurrences in spam or non-spam emails."
   ]
  },
  {
   "cell_type": "code",
   "execution_count": null,
   "id": "54aed6fd-4717-4879-89a7-aad18d118944",
   "metadata": {},
   "outputs": [],
   "source": []
  }
 ],
 "metadata": {
  "kernelspec": {
   "display_name": "Python 3 (ipykernel)",
   "language": "python",
   "name": "python3"
  },
  "language_info": {
   "codemirror_mode": {
    "name": "ipython",
    "version": 3
   },
   "file_extension": ".py",
   "mimetype": "text/x-python",
   "name": "python",
   "nbconvert_exporter": "python",
   "pygments_lexer": "ipython3",
   "version": "3.10.8"
  }
 },
 "nbformat": 4,
 "nbformat_minor": 5
}
